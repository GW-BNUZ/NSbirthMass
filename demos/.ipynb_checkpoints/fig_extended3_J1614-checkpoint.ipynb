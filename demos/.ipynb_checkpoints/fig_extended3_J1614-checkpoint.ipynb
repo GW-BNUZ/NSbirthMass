{
 "cells": [
  {
   "cell_type": "code",
   "execution_count": 2,
   "id": "cb700027",
   "metadata": {},
   "outputs": [],
   "source": [
    "import numpy as np\n",
    "import os\n",
    "import glob\n",
    "parent_dir_path=os.path.abspath( os.path.join(os.getcwd(),'..')) \n",
    "main_direct=parent_dir_path+'/demos/'\n",
    "ana_corr_mr_39=np.loadtxt('/home/yzq/Documents/NS_mass/NSbirthMass/NSmassData/ana_mr_39.txt')\n",
    "phe_corr_mr_39=np.loadtxt('/home/yzq/Documents/NS_mass/NSbirthMass/NSmassData/phenom_mr_modify_n39.txt')\n",
    "ana_j1614=ana_corr_mr_39[34*10000:35*10000]\n",
    "phe_j1614=phe_corr_mr_39[34*10000:35*10000]"
   ]
  },
  {
   "cell_type": "code",
   "execution_count": null,
   "id": "29aa8ee2",
   "metadata": {
    "scrolled": false
   },
   "outputs": [],
   "source": [
    "def G_fun(dataset, mu, sigma):\n",
    "    return (np.exp(- (dataset - mu)**2 / (2 * sigma**2)) /\\\n",
    "        (2 * np.pi * sigma**2)**0.5)\n",
    "\n",
    "import corner.corner\n",
    "import matplotlib as mpl\n",
    "import matplotlib.lines as mlines\n",
    "import matplotlib.pyplot as plt\n",
    "mpl.rcParams['font.family'] = ['serif']\n",
    "mpl.rcParams['font.serif'] = ['Times New Roman']\n",
    "%matplotlib inline\n",
    "plt.style.use(['science','ieee','no-latex'])\n",
    "plt.grid(which='major',linestyle='--',lw=0.2,alpha=0.8)\n",
    "\n",
    "\n",
    "xx=np.linspace(1,2.5,1000)\n",
    "plt.plot(xx,G_fun(xx, 1.7, 0.15),linestyle=\"-\",color='k',lw=0.4,label=r'$\\mathcal{N}(1.7,0.15)$')\n",
    "\n",
    "plt.plot(xx,G_fun(xx, 1.908, 0.016),linestyle=\"-\",color='green',lw=0.6,label=r'$\\mathcal{N}(1.908,0.016)$')\n",
    "\n",
    "plt.hist(phe_j1614,bins=20,histtype='step',density=True,color='#ff7f0e',fill=False,alpha=0.5,ls='-',lw=0.9,label=r'$\\rm PHE$') \n",
    "\n",
    "plt.hist(ana_j1614,bins=20,histtype='step',density=True,color='#089FFF',fill=False,alpha=0.5,ls='-',lw=0.9,label=r'$\\rm ANA$') \n",
    "#plt.hist(spin_up[i*5000:(i+1)*5000],bins=20,histtype='step',density=True,color='#089FFF',fill=False,alpha=0.,ls='-',lw=0.00,label=r'$\\rm J1614-2230$') \n",
    "\n",
    "\n",
    "#fre_num_ta, x_edge_ta = np.histogram(tau[i*5000:(i+1)*5000],bins=40)\n",
    "#plt.stairs(fre_num_ta/np.max(fre_num_ta),x_edge_ta,color='red',lw=0.3,ls='-') \n",
    "#plt.stairs(fre_num_ta/np.max(fre_num_ta),x_edge_ta,color='white',lw=0.3,alpha=0.001,ls='--')\n",
    "\n",
    "plt.xlim(1.25,2.1)\n",
    "plt.legend(loc='upper left')\n",
    "plt.xlabel(r'$ \\rm mass \\,(M_{\\odot})$')\n",
    "plt.ylabel(r'$\\rm probability\\,density$')\n",
    "#plt.savefig(parent_dir_path+'/figures/extended_fig3.pdf')\n",
    "plt.show()"
   ]
  },
  {
   "cell_type": "code",
   "execution_count": null,
   "id": "2d40201c",
   "metadata": {},
   "outputs": [],
   "source": []
  },
  {
   "cell_type": "code",
   "execution_count": null,
   "id": "b1241446",
   "metadata": {},
   "outputs": [],
   "source": []
  }
 ],
 "metadata": {
  "kernelspec": {
   "display_name": "bilby",
   "language": "python",
   "name": "bilby"
  },
  "language_info": {
   "codemirror_mode": {
    "name": "ipython",
    "version": 3
   },
   "file_extension": ".py",
   "mimetype": "text/x-python",
   "name": "python",
   "nbconvert_exporter": "python",
   "pygments_lexer": "ipython3",
   "version": "3.8.16"
  }
 },
 "nbformat": 4,
 "nbformat_minor": 5
}
