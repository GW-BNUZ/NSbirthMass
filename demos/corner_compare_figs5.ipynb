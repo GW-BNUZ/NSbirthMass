{
 "cells": [
  {
   "cell_type": "code",
   "execution_count": 1,
   "id": "c0ea1272",
   "metadata": {},
   "outputs": [],
   "source": [
    "import bilby\n",
    "import os\n",
    "import glob\n",
    "import numpy as np\n",
    "from scipy import interpolate\n",
    "import utilizes_plot\n",
    "\n",
    "mrms_data_label=['ns_obs','ana_corrected_mrms_87','phe_corrected_mrms_87','ana_corrected_mr_53','phe_corrected_mr_53','mr_obs_53','ms_34','ana_radio']\n",
    "############# j=   0                1                       2                      3                       4                  5      6        7\n",
    "sub_model_name_list=['turn_on_pow','turn_on_pow_fix','turn_on_pow_G','pow', '2G','turn_on_pow_G_fixed_max','G','2G_fixed_max', 'sst', 'G_fixed_max', '2G_fixed_min','2G_fixed_max_min','logu','3G_fixed_max_min','lognorm','gamma', 'U','G_fixed_max_min']\n",
    "############ i=           0(4)       1(3)                2(7)         3(3)   4(7)            5(6)          6(4)       7(6)     8(4)        9(3)            10(6)              11(5)     12(2)      13(8)           14(2)    15(2)  16(2)      17(2)   \n",
    "data_name_labes=[r'$\\rm{OBS}$',r'$\\rm{ANA}$',r'$\\rm{PHE}$',r'$\\rm{ANA_{m_r}}$',r'$\\rm{PHE_{m_r}}$',r'$\\rm{m_r}$',r'$\\rm{m_s}$',r'$\\rm{ANA_{radio}}$']\n",
    "model_name_label=[r'$\\rm{TOP}$',r'$\\rm{TOP_{min}}$',r'$\\rm{TOPG}$',r'$\\rm{POW}$',r'$\\rm{2G^{max}_{min}}$',r'$\\rm{TOPG_{min}}$',r'$\\rm{G^{max}_{min}}$',r'$\\rm{2G_{min}}$',r'$\\rm{SST}$',r'$\\rm{G_{min}}$',r'$\\rm{2G_{max}}$',r'$\\rm{2G}$',r'$\\rm{LogU}$',r'$\\rm{3G}$',r'$\\rm{LogN}$',r'$\\rm{Gamma}$',r'$\\rm{U}$',r'$\\rm{G}$']\n",
    "###########\n",
    "\n",
    "post_data_model_top={}\n",
    "i=0\n",
    "for j in [1, 7]:\n",
    "    main_direct='/home/yzq/Documents/NS_mass/BNU/NS_mass/NS_sci/NS_mass_2023/'\n",
    "    os.path.exists(main_direct+'{}/{}/hy_outdir/*.json'.format(mrms_data_label[j],sub_model_name_list[i]) )\n",
    "    fnames= glob.glob( main_direct+'{}/{}/hy_outdir/*.json'.format(mrms_data_label[j],sub_model_name_list[i])  )\n",
    "    fname=fnames[0]\n",
    "    re=bilby.result.read_in_result( fname )\n",
    "    temp_post=((re.posterior).iloc[:,0:-2]).values \n",
    "    \n",
    "    temp_pos=np.empty_like(temp_post)\n",
    "    temp_pos[:,0]=temp_post[:,1]\n",
    "    temp_pos[:,1]=temp_post[:,3]\n",
    "    temp_pos[:,2]=temp_post[:,0]\n",
    "    temp_pos[:,3]=temp_post[:,2]\n",
    "    \n",
    "    post_data_model_top[\"post_\"+str(mrms_data_label[j])+'_'+str(sub_model_name_list[i])]=temp_pos"
   ]
  },
  {
   "cell_type": "code",
   "execution_count": null,
   "id": "1257aea2",
   "metadata": {},
   "outputs": [],
   "source": []
  },
  {
   "cell_type": "code",
   "execution_count": 4,
   "id": "a51424ee",
   "metadata": {},
   "outputs": [
    {
     "data": {
      "text/plain": [
       "{'post_ana_corrected_mrms_87_turn_on_pow': array([[ 1.01108621,  0.60432373, 10.5176569 ,  1.9974154 ],\n",
       "        [ 0.93676511,  0.76077533,  5.39287136,  2.37332265],\n",
       "        [ 0.95137259,  0.95421562,  7.54000448,  2.36543751],\n",
       "        ...,\n",
       "        [ 1.11237628,  0.18684004,  6.15495378,  2.2646449 ],\n",
       "        [ 1.12100536,  0.16246564,  6.09690446,  2.26757011],\n",
       "        [ 1.12021467,  0.16616261,  5.92109181,  2.24936989]]),\n",
       " 'post_ana_radio_turn_on_pow': array([[ 1.00896705,  0.88099356, 21.89915713,  2.21742165],\n",
       "        [ 0.980017  ,  0.38076789,  5.57325702,  2.1969893 ],\n",
       "        [ 1.047284  ,  0.6938585 , 21.26812138,  1.93701089],\n",
       "        ...,\n",
       "        [ 1.10484403,  0.27141211, 10.60723128,  2.11478999],\n",
       "        [ 1.10399218,  0.27856343, 11.0056562 ,  2.10330163],\n",
       "        [ 1.10850232,  0.26368668, 10.52428278,  2.04945899]])}"
      ]
     },
     "execution_count": 4,
     "metadata": {},
     "output_type": "execute_result"
    }
   ],
   "source": [
    "post_data_model_top"
   ]
  },
  {
   "cell_type": "code",
   "execution_count": 11,
   "id": "08c9b9c6",
   "metadata": {},
   "outputs": [],
   "source": [
    "data_list=list()\n",
    "slow_top_max_1p9_posts=post_data_model_top[\"post_\"+str(mrms_data_label[6])+'_'+str(sub_model_name_list[0])]\n",
    "data_list.append(slow_top_max_1p9_posts)\n",
    "data_list.append(post_data_model_top[\"post_\"+str(mrms_data_label[0])+'_'+str(sub_model_name_list[0])])"
   ]
  },
  {
   "cell_type": "code",
   "execution_count": 3,
   "id": "8525fc99",
   "metadata": {
    "scrolled": false
   },
   "outputs": [
    {
     "ename": "KeyError",
     "evalue": "'post_ns_obs_turn_on_pow'",
     "output_type": "error",
     "traceback": [
      "\u001b[0;31m---------------------------------------------------------------------------\u001b[0m",
      "\u001b[0;31mKeyError\u001b[0m                                  Traceback (most recent call last)",
      "Cell \u001b[0;32mIn[3], line 20\u001b[0m\n\u001b[1;32m     17\u001b[0m title_fs\u001b[38;5;241m=\u001b[39m\u001b[38;5;241m16\u001b[39m\n\u001b[1;32m     18\u001b[0m ranges\u001b[38;5;241m=\u001b[39m([\u001b[38;5;241m0.85\u001b[39m,\u001b[38;5;241m1.22\u001b[39m],[\u001b[38;5;241m-\u001b[39m\u001b[38;5;241m0.01\u001b[39m,\u001b[38;5;241m1.15\u001b[39m],[\u001b[38;5;241m-\u001b[39m\u001b[38;5;241m0.05\u001b[39m,\u001b[38;5;241m21\u001b[39m],[\u001b[38;5;241m1.6\u001b[39m,\u001b[38;5;241m3.1\u001b[39m])\n\u001b[0;32m---> 20\u001b[0m max_len\u001b[38;5;241m=\u001b[39m\u001b[38;5;28mmax\u001b[39m(\u001b[38;5;28mlen\u001b[39m(\u001b[43mpost_data_model_top\u001b[49m\u001b[43m[\u001b[49m\u001b[38;5;124;43m\"\u001b[39;49m\u001b[38;5;124;43mpost_\u001b[39;49m\u001b[38;5;124;43m\"\u001b[39;49m\u001b[38;5;241;43m+\u001b[39;49m\u001b[38;5;28;43mstr\u001b[39;49m\u001b[43m(\u001b[49m\u001b[43mmrms_data_label\u001b[49m\u001b[43m[\u001b[49m\u001b[38;5;241;43m0\u001b[39;49m\u001b[43m]\u001b[49m\u001b[43m)\u001b[49m\u001b[38;5;241;43m+\u001b[39;49m\u001b[38;5;124;43m'\u001b[39;49m\u001b[38;5;124;43m_\u001b[39;49m\u001b[38;5;124;43m'\u001b[39;49m\u001b[38;5;241;43m+\u001b[39;49m\u001b[38;5;28;43mstr\u001b[39;49m\u001b[43m(\u001b[49m\u001b[43msub_model_name_list\u001b[49m\u001b[43m[\u001b[49m\u001b[38;5;241;43m0\u001b[39;49m\u001b[43m]\u001b[49m\u001b[43m)\u001b[49m\u001b[43m]\u001b[49m),\\\n\u001b[1;32m     21\u001b[0m             \u001b[38;5;28mlen\u001b[39m(data_list[\u001b[38;5;241m0\u001b[39m]),\u001b[38;5;28mlen\u001b[39m(data_list[\u001b[38;5;241m1\u001b[39m]) )\n\u001b[1;32m     23\u001b[0m \u001b[38;5;28;01mdef\u001b[39;00m \u001b[38;5;21mget_normalisation_weight\u001b[39m(len_current_samples, len_of_longest_samples):\n\u001b[1;32m     24\u001b[0m     \u001b[38;5;28;01mreturn\u001b[39;00m np\u001b[38;5;241m.\u001b[39mones(len_current_samples) \u001b[38;5;241m*\u001b[39m (len_of_longest_samples \u001b[38;5;241m/\u001b[39m len_current_samples)\n",
      "\u001b[0;31mKeyError\u001b[0m: 'post_ns_obs_turn_on_pow'"
     ]
    }
   ],
   "source": [
    "import corner.corner\n",
    "#import scienceplots\n",
    "import matplotlib as mpl\n",
    "import matplotlib.lines as mlines\n",
    "import matplotlib.pyplot as plt\n",
    "mpl.rcParams['font.family'] = ['serif']\n",
    "mpl.rcParams['font.serif'] = ['Times New Roman']\n",
    "%matplotlib inline\n",
    "plt.style.use(['science','ieee','no-latex'])\n",
    "\n",
    "\n",
    "#################################\n",
    "colors=['#ff7f0e','#0072c1']\n",
    "torf=[False,True]\n",
    "quans=[[ ],[0.16, 0.84]]\n",
    "label_fs=16\n",
    "title_fs=16\n",
    "ranges=([0.85,1.22],[-0.01,1.15],[-0.05,21],[1.6,3.1])\n",
    "\n",
    "max_len=max(len(post_data_model_top[\"post_\"+str(mrms_data_label[0])+'_'+str(sub_model_name_list[0])]),\\\n",
    "            len(data_list[0]),len(data_list[1]) )\n",
    "\n",
    "def get_normalisation_weight(len_current_samples, len_of_longest_samples):\n",
    "    return np.ones(len_current_samples) * (len_of_longest_samples / len_current_samples)\n",
    "\n",
    "fig= corner.corner(post_data_model_top[\"post_\"+str(mrms_data_label[2])+'_'+str(sub_model_name_list[0])], #most one you want show\n",
    "                       bins=20,smooth=0.9,color='k',\n",
    "                       weights=get_normalisation_weight(len(post_data_model_top[\"post_\"+str(mrms_data_label[2])+'_'+str(sub_model_name_list[0])]), max_len),\n",
    "                       #labels=[r'$m_{\\rm{min}}\\,({\\rm {M_{\\odot}}} ) $',r'$ \\delta_m \\,({\\rm {M_{\\odot}}} ) $',\n",
    "                       #        r'$\\alpha$',r'$m_{\\rm{max}} \\,({\\rm {M_{\\odot}}} ) $' ],\n",
    "                       quantiles=[0.16, 0.84],\n",
    "                       hist_kwargs=dict(ls='--'),\n",
    "                       hist2d_kwargs=dict(ls='--'),\n",
    "                       levels=(1 - np.exp(-0.5), 1 - np.exp(-2), 1 - np.exp(-9 / 2.)),\n",
    "                       plot_density=False, plot_datapoints=False, fill_contours=False,\n",
    "                       label_kwargs=dict(fontsize=label_fs),range=ranges,\n",
    "                   show_titles=True,title_kwargs={\"fontsize\": title_fs,\"color\":'k'}\n",
    "                  )\n",
    "for i in range(2):\n",
    "    fig=corner.corner(data_list[i],  #1st dataset is the most different dataset, 2nd is the data similar to most data\n",
    "                      fig=fig,\n",
    "                       bins=20,smooth=0.9,color=colors[i],\n",
    "                       weights=get_normalisation_weight(len(data_list[i]), max_len),\n",
    "                       labels=[r'$m_{\\rm{min}}\\,({\\rm {M_{\\odot}}} ) $',r'$ \\delta_m \\,({\\rm {M_{\\odot}}} ) $',\n",
    "                               r'$\\alpha$',r'$m_{\\rm{max}} \\,({\\rm {M_{\\odot}}} ) $' ],\n",
    "                       #quantiles=quans[i],\n",
    "                       levels=(1 - np.exp(-0.5), 1 - np.exp(-2), 1 - np.exp(-9 / 2.)),\n",
    "                       plot_density=torf[i], plot_datapoints=False, fill_contours=True,\n",
    "                       label_kwargs=dict(fontsize=label_fs),range=ranges,\n",
    "                       hist_kwargs=dict(ls='-'),\n",
    "                       #show_titles=torf[i], title_kwargs={\"fontsize\": title_fs,\"color\":colors[i]}\n",
    "                     )\n",
    "\n",
    "k_line= mlines.Line2D([],[],color='k', lw=2,label=r'$\\rm{PHE}$')\n",
    "orange_line= mlines.Line2D([],[],color='#ff7f0e',lw=2,label=r'$\\rm{SLOW}$')\n",
    "blue_line = mlines.Line2D([],[],color='#0072c1', lw=2,label=r'$\\rm{OBS}$')#'#0072c1' blue\n",
    "\n",
    "plt.legend(handles=[k_line,blue_line,orange_line],bbox_to_anchor=(1,4.2),loc='upper right',fontsize=label_fs)#prop={'size': 8})\n",
    "\n",
    "plt.savefig('phe_obs_slow_top_posteriors.jpg')\n",
    "plt.show()"
   ]
  },
  {
   "cell_type": "markdown",
   "id": "f268f2f8",
   "metadata": {},
   "source": [
    "# top model with slow & rec"
   ]
  },
  {
   "cell_type": "code",
   "execution_count": 2,
   "id": "8e310d41",
   "metadata": {},
   "outputs": [],
   "source": [
    "import bilby\n",
    "import os\n",
    "import glob\n",
    "import numpy as np\n",
    "from scipy import interpolate\n",
    "import utilizes_plot\n",
    "\n",
    "mrms_data_label=['ns_obs','ana_corrected_mrms_87','phe_corrected_mrms_87','ana_corrected_mr_53','phe_corrected_mr_53','mr_obs_53','ms_34']\n",
    "############# j=   0                1                       2                      3                       4                  5      6\n",
    "sub_model_name_list=['turn_on_pow','turn_on_pow_fix','turn_on_pow_G','pow', '2G','turn_on_pow_G_fixed_max','G','2G_fixed_max', 'sst', 'G_fixed_max', '2G_fixed_min','2G_fixed_max_min','logu','3G_fixed_max_min','lognorm','gamma', 'U','G_fixed_max_min']\n",
    "############ i=           0(4)       1(3)                2(7)         3(3)   4(7)            5(6)          6(4)       7(6)     8(4)        9(3)            10(6)              11(5)     12(2)      13(8)           14(2)    15(2)  16(2)      17(2)   \n",
    "data_name_labes=[r'$\\rm{OBS}$',r'$\\rm{ANA}$',r'$\\rm{PHE}$',r'$\\rm{ANA_{m_r}}$',r'$\\rm{PHE_{m_r}}$',r'$\\rm{m_r}$',r'$\\rm{m_s}$']\n",
    "model_name_label=[r'$\\rm{TOP}$',r'$\\rm{TOP_{min}}$',r'$\\rm{TOPG}$',r'$\\rm{POW}$',r'$\\rm{2G^{max}_{min}}$',r'$\\rm{TOPG_{min}}$',r'$\\rm{G^{max}_{min}}$',r'$\\rm{2G_{min}}$',r'$\\rm{SST}$',r'$\\rm{G_{min}}$',r'$\\rm{2G_{max}}$',r'$\\rm{2G}$',r'$\\rm{LogU}$',r'$\\rm{3G}$',r'$\\rm{LogN}$',r'$\\rm{Gamma}$',r'$\\rm{U}$',r'$\\rm{G}$']\n",
    "###########\n",
    "\n",
    "post_data_model_top={}\n",
    "i=0\n",
    "for j in [3,4,5,6]:\n",
    "    main_direct='/home/yzq/Documents/NS_mass/BNU/NS_mass/NS_sci/NS_mass_2023/'\n",
    "    os.path.exists(main_direct+'{}/{}/hy_outdir/*.json'.format(mrms_data_label[j],sub_model_name_list[i]) )\n",
    "    fnames= glob.glob( main_direct+'{}/{}/hy_outdir/*.json'.format(mrms_data_label[j],sub_model_name_list[i])  )\n",
    "    fname=fnames[0]\n",
    "    re=bilby.result.read_in_result( fname )\n",
    "    temp_post=((re.posterior).iloc[:,0:-2]).values \n",
    "    \n",
    "    temp_pos=np.empty_like(temp_post)\n",
    "    temp_pos[:,0]=temp_post[:,1]\n",
    "    temp_pos[:,1]=temp_post[:,3]\n",
    "    temp_pos[:,2]=temp_post[:,0]\n",
    "    temp_pos[:,3]=temp_post[:,2]\n",
    "    \n",
    "    post_data_model_top[\"post_\"+str(mrms_data_label[j])+'_'+str(sub_model_name_list[i])]=temp_pos"
   ]
  },
  {
   "cell_type": "code",
   "execution_count": 7,
   "id": "5db3ae9f",
   "metadata": {},
   "outputs": [
    {
     "data": {
      "text/plain": [
       "array([ 1,  2,  3, 10, 20, 30])"
      ]
     },
     "execution_count": 7,
     "metadata": {},
     "output_type": "execute_result"
    }
   ],
   "source": [
    "aaa=np.array([1,2,3])\n",
    "bbb=np.array([10,20,30])\n",
    "np.concatenate([aaa,bbb])"
   ]
  },
  {
   "cell_type": "code",
   "execution_count": 8,
   "id": "7398e313",
   "metadata": {},
   "outputs": [
    {
     "data": {
      "text/plain": [
       "array([2.60385838, 2.59945005, 2.59459596, ..., 2.58503659, 2.60636036,\n",
       "       2.59357848])"
      ]
     },
     "execution_count": 8,
     "metadata": {},
     "output_type": "execute_result"
    }
   ],
   "source": [
    "np.random.normal(2.6,0.01,5000)"
   ]
  },
  {
   "cell_type": "code",
   "execution_count": 11,
   "id": "84d402e4",
   "metadata": {},
   "outputs": [
    {
     "data": {
      "text/plain": [
       "(array([7.000e+00, 6.400e+01, 3.250e+02, 9.020e+02, 1.498e+03, 1.380e+03,\n",
       "        6.320e+02, 1.720e+02, 1.900e+01, 1.000e+00]),\n",
       " array([2.56171989, 2.56969509, 2.5776703 , 2.5856455 , 2.59362071,\n",
       "        2.60159591, 2.60957112, 2.61754632, 2.62552153, 2.63349673,\n",
       "        2.64147194]),\n",
       " <BarContainer object of 10 artists>)"
      ]
     },
     "execution_count": 11,
     "metadata": {},
     "output_type": "execute_result"
    },
    {
     "data": {
      "image/png": "[encoded data removed]",
      "text/plain": [
       "<Figure size 640x480 with 1 Axes>"
      ]
     },
     "metadata": {},
     "output_type": "display_data"
    }
   ],
   "source": [
    "import matplotlib.pyplot as plt\n",
    "plt.hist(np.random.normal(2.6,0.01,5000))"
   ]
  },
  {
   "cell_type": "code",
   "execution_count": null,
   "id": "1e254a99",
   "metadata": {},
   "outputs": [],
   "source": []
  }
 ],
 "metadata": {
  "kernelspec": {
   "display_name": "bilby",
   "language": "python",
   "name": "bilby"
  },
  "language_info": {
   "codemirror_mode": {
    "name": "ipython",
    "version": 3
   },
   "file_extension": ".py",
   "mimetype": "text/x-python",
   "name": "python",
   "nbconvert_exporter": "python",
   "pygments_lexer": "ipython3",
   "version": "3.8.16"
  }
 },
 "nbformat": 4,
 "nbformat_minor": 5
}
